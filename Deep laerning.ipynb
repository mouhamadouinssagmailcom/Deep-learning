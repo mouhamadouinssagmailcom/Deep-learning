{
  "cells": [
    {
      "cell_type": "code",
      "execution_count": null,
      "metadata": {
        "colab": {
          "base_uri": "https://localhost:8080/"
        },
        "id": "L31kmojVB-sh",
        "outputId": "d3dfcbfa-f379-4373-b2be-ab1db970275f"
      },
      "outputs": [
        {
          "output_type": "stream",
          "name": "stdout",
          "text": [
            "Looking in indexes: https://pypi.org/simple, https://us-python.pkg.dev/colab-wheels/public/simple/\n",
            "Requirement already satisfied: tensorflow in /usr/local/lib/python3.7/dist-packages (2.8.2+zzzcolab20220527125636)\n",
            "Requirement already satisfied: wrapt>=1.11.0 in /usr/local/lib/python3.7/dist-packages (from tensorflow) (1.14.1)\n",
            "Requirement already satisfied: libclang>=9.0.1 in /usr/local/lib/python3.7/dist-packages (from tensorflow) (14.0.1)\n",
            "Requirement already satisfied: protobuf<3.20,>=3.9.2 in /usr/local/lib/python3.7/dist-packages (from tensorflow) (3.17.3)\n",
            "Requirement already satisfied: tensorflow-io-gcs-filesystem>=0.23.1 in /usr/local/lib/python3.7/dist-packages (from tensorflow) (0.26.0)\n",
            "Requirement already satisfied: astunparse>=1.6.0 in /usr/local/lib/python3.7/dist-packages (from tensorflow) (1.6.3)\n",
            "Requirement already satisfied: google-pasta>=0.1.1 in /usr/local/lib/python3.7/dist-packages (from tensorflow) (0.2.0)\n",
            "Requirement already satisfied: typing-extensions>=3.6.6 in /usr/local/lib/python3.7/dist-packages (from tensorflow) (4.1.1)\n",
            "Requirement already satisfied: tensorflow-estimator<2.9,>=2.8 in /usr/local/lib/python3.7/dist-packages (from tensorflow) (2.8.0)\n",
            "Requirement already satisfied: tensorboard<2.9,>=2.8 in /usr/local/lib/python3.7/dist-packages (from tensorflow) (2.8.0)\n",
            "Requirement already satisfied: gast>=0.2.1 in /usr/local/lib/python3.7/dist-packages (from tensorflow) (0.5.3)\n",
            "Requirement already satisfied: flatbuffers>=1.12 in /usr/local/lib/python3.7/dist-packages (from tensorflow) (2.0)\n",
            "Requirement already satisfied: six>=1.12.0 in /usr/local/lib/python3.7/dist-packages (from tensorflow) (1.15.0)\n",
            "Requirement already satisfied: absl-py>=0.4.0 in /usr/local/lib/python3.7/dist-packages (from tensorflow) (1.1.0)\n",
            "Requirement already satisfied: termcolor>=1.1.0 in /usr/local/lib/python3.7/dist-packages (from tensorflow) (1.1.0)\n",
            "Requirement already satisfied: keras-preprocessing>=1.1.1 in /usr/local/lib/python3.7/dist-packages (from tensorflow) (1.1.2)\n",
            "Requirement already satisfied: opt-einsum>=2.3.2 in /usr/local/lib/python3.7/dist-packages (from tensorflow) (3.3.0)\n",
            "Requirement already satisfied: setuptools in /usr/local/lib/python3.7/dist-packages (from tensorflow) (57.4.0)\n",
            "Requirement already satisfied: grpcio<2.0,>=1.24.3 in /usr/local/lib/python3.7/dist-packages (from tensorflow) (1.46.3)\n",
            "Requirement already satisfied: keras<2.9,>=2.8.0rc0 in /usr/local/lib/python3.7/dist-packages (from tensorflow) (2.8.0)\n",
            "Requirement already satisfied: numpy>=1.20 in /usr/local/lib/python3.7/dist-packages (from tensorflow) (1.21.6)\n",
            "Requirement already satisfied: h5py>=2.9.0 in /usr/local/lib/python3.7/dist-packages (from tensorflow) (3.1.0)\n",
            "Requirement already satisfied: wheel<1.0,>=0.23.0 in /usr/local/lib/python3.7/dist-packages (from astunparse>=1.6.0->tensorflow) (0.37.1)\n",
            "Requirement already satisfied: cached-property in /usr/local/lib/python3.7/dist-packages (from h5py>=2.9.0->tensorflow) (1.5.2)\n",
            "Requirement already satisfied: tensorboard-plugin-wit>=1.6.0 in /usr/local/lib/python3.7/dist-packages (from tensorboard<2.9,>=2.8->tensorflow) (1.8.1)\n",
            "Requirement already satisfied: google-auth<3,>=1.6.3 in /usr/local/lib/python3.7/dist-packages (from tensorboard<2.9,>=2.8->tensorflow) (1.35.0)\n",
            "Requirement already satisfied: markdown>=2.6.8 in /usr/local/lib/python3.7/dist-packages (from tensorboard<2.9,>=2.8->tensorflow) (3.3.7)\n",
            "Requirement already satisfied: google-auth-oauthlib<0.5,>=0.4.1 in /usr/local/lib/python3.7/dist-packages (from tensorboard<2.9,>=2.8->tensorflow) (0.4.6)\n",
            "Requirement already satisfied: werkzeug>=0.11.15 in /usr/local/lib/python3.7/dist-packages (from tensorboard<2.9,>=2.8->tensorflow) (1.0.1)\n",
            "Requirement already satisfied: requests<3,>=2.21.0 in /usr/local/lib/python3.7/dist-packages (from tensorboard<2.9,>=2.8->tensorflow) (2.23.0)\n",
            "Requirement already satisfied: tensorboard-data-server<0.7.0,>=0.6.0 in /usr/local/lib/python3.7/dist-packages (from tensorboard<2.9,>=2.8->tensorflow) (0.6.1)\n",
            "Requirement already satisfied: pyasn1-modules>=0.2.1 in /usr/local/lib/python3.7/dist-packages (from google-auth<3,>=1.6.3->tensorboard<2.9,>=2.8->tensorflow) (0.2.8)\n",
            "Requirement already satisfied: rsa<5,>=3.1.4 in /usr/local/lib/python3.7/dist-packages (from google-auth<3,>=1.6.3->tensorboard<2.9,>=2.8->tensorflow) (4.8)\n",
            "Requirement already satisfied: cachetools<5.0,>=2.0.0 in /usr/local/lib/python3.7/dist-packages (from google-auth<3,>=1.6.3->tensorboard<2.9,>=2.8->tensorflow) (4.2.4)\n",
            "Requirement already satisfied: requests-oauthlib>=0.7.0 in /usr/local/lib/python3.7/dist-packages (from google-auth-oauthlib<0.5,>=0.4.1->tensorboard<2.9,>=2.8->tensorflow) (1.3.1)\n",
            "Requirement already satisfied: importlib-metadata>=4.4 in /usr/local/lib/python3.7/dist-packages (from markdown>=2.6.8->tensorboard<2.9,>=2.8->tensorflow) (4.11.4)\n",
            "Requirement already satisfied: zipp>=0.5 in /usr/local/lib/python3.7/dist-packages (from importlib-metadata>=4.4->markdown>=2.6.8->tensorboard<2.9,>=2.8->tensorflow) (3.8.0)\n",
            "Requirement already satisfied: pyasn1<0.5.0,>=0.4.6 in /usr/local/lib/python3.7/dist-packages (from pyasn1-modules>=0.2.1->google-auth<3,>=1.6.3->tensorboard<2.9,>=2.8->tensorflow) (0.4.8)\n",
            "Requirement already satisfied: certifi>=2017.4.17 in /usr/local/lib/python3.7/dist-packages (from requests<3,>=2.21.0->tensorboard<2.9,>=2.8->tensorflow) (2022.6.15)\n",
            "Requirement already satisfied: idna<3,>=2.5 in /usr/local/lib/python3.7/dist-packages (from requests<3,>=2.21.0->tensorboard<2.9,>=2.8->tensorflow) (2.10)\n",
            "Requirement already satisfied: chardet<4,>=3.0.2 in /usr/local/lib/python3.7/dist-packages (from requests<3,>=2.21.0->tensorboard<2.9,>=2.8->tensorflow) (3.0.4)\n",
            "Requirement already satisfied: urllib3!=1.25.0,!=1.25.1,<1.26,>=1.21.1 in /usr/local/lib/python3.7/dist-packages (from requests<3,>=2.21.0->tensorboard<2.9,>=2.8->tensorflow) (1.24.3)\n",
            "Requirement already satisfied: oauthlib>=3.0.0 in /usr/local/lib/python3.7/dist-packages (from requests-oauthlib>=0.7.0->google-auth-oauthlib<0.5,>=0.4.1->tensorboard<2.9,>=2.8->tensorflow) (3.2.0)\n"
          ]
        }
      ],
      "source": [
        "pip install tensorflow"
      ]
    },
    {
      "cell_type": "code",
      "execution_count": null,
      "metadata": {
        "id": "e20TPA0LzMvx"
      },
      "outputs": [],
      "source": [
        "import numpy\n",
        "\n",
        "from tensorflow import keras\n",
        "import tensorflow as tf\n",
        "\n",
        "from tensorflow.keras.optimizers import SGD\n",
        "from tensorflow.keras.constraints import max_norm\n",
        "\n",
        "from keras.layers import Conv2D, MaxPool2D, Flatten, Dense\n",
        "\n",
        "from keras.constraints import maxnorm\n",
        "from keras.datasets import cifar10\n",
        "from keras.models import Sequential\n",
        "from keras.layers import Dense\n",
        "from keras.layers import Dropout\n",
        "from keras.layers import Flatten\n",
        "from keras.constraints import maxnorm\n",
        "from keras.layers.convolutional import Convolution2D\n",
        "\n",
        "from keras.layers.convolutional import MaxPooling2D\n",
        "from keras.utils import np_utils\n",
        "\n"
      ]
    },
    {
      "cell_type": "code",
      "execution_count": null,
      "metadata": {
        "id": "5T8uBiZR_0Ar"
      },
      "outputs": [],
      "source": [
        "# fix random seed for reproducibility\n",
        "seed = 7\n",
        "numpy.random.seed(seed)\n"
      ]
    },
    {
      "cell_type": "code",
      "execution_count": null,
      "metadata": {
        "id": "QrlGKECi_6Yn"
      },
      "outputs": [],
      "source": [
        "import tensorflow\n",
        "# load data\n",
        "(X_train, y_train) , (X_test, y_test) = tensorflow.keras.datasets.cifar10.load_data()\n"
      ]
    },
    {
      "cell_type": "code",
      "execution_count": null,
      "metadata": {
        "id": "xGtd4vdIP5my"
      },
      "outputs": [],
      "source": [
        "#normalize # normalize inputs from 0-255 to 0.0-1.0\n",
        "X_train = X_train.astype('float32')\n",
        "x_test =  X_test.astype('float32')\n",
        "X_train = X_train / 255.0\n",
        "x_test =  X_test /255.0\n",
        "#one hot outpout\n",
        "y_train =  np_utils.to_categorical(y_train)\n",
        "y_test  = np_utils.to_categorical(y_test)\n",
        "num_classes = y_test.shape[1]\n"
      ]
    },
    {
      "cell_type": "code",
      "source": [
        "model = Sequential()\n",
        "model.add(Conv2D(32,3,3, input_shape=(32,32,3), activation= 'relu',padding='same',kernel_constraint=maxnorm(3)))\n",
        "model.add(Dropout(0.2))\n",
        "model.add(Conv2D(32, (3,3),  activation= 'relu', padding='same',kernel_constraint=maxnorm(3)))\n",
        "model.add(MaxPool2D(2,2))\n",
        "model.add(Conv2D(64,(3,3), activation= 'relu',padding='same', kernel_constraint=maxnorm(3)))\n",
        "model.add(Dropout(0.2))\n",
        "model.add(Conv2D(64,(3,3),activation = 'relu',padding='same',kernel_constraint=maxnorm(3)))\n",
        "model.add(MaxPool2D(2,2))\n",
        "model.add(Conv2D(128, (3, 3), activation= 'relu',padding='same',kernel_constraint=maxnorm(3)))\n",
        "model.add(Dropout(0.2))\n",
        "model.add(Conv2D(128, (3, 3), activation= 'relu',padding='same',kernel_constraint=maxnorm(3)))\n",
        "model.add(MaxPool2D(2,2))\n",
        "model.add(Flatten())\n",
        "model.add(Dropout(0.2))\n",
        "model.add(Dense(1024, kernel_constraint=max_norm(3)))\n",
        "\n",
        "model.add(Dense(1024,  activation='relu' ,kernel_constraint=maxnorm(3)))\n",
        "model.add(Dropout(0.2))\n",
        "model.add(Dense(512, activation= 'relu' , kernel_constraint=max_norm(3)))\n",
        "model.add(Dropout(0.2))\n",
        "model.add(Dense(num_classes, activation='softmax' ))\n",
        "# Compile model\n",
        "epochs = 25\n",
        "sgd = tensorflow.keras.optimizers.SGD(learning_rate=0.01, momentum=0.9,nesterov=False)\n",
        "model.compile(loss='categorical_crossentropy', optimizer=sgd , metrics=[tf.keras.metrics.Accuracy()])\n",
        "print(model.summary())\n",
        "\n",
        "#Fit the model\n",
        "model.fit(X_train , y_train, validation_data=(X_test, y_test),  epochs=25, batch_size=32, verbose=2) \n",
        "#Final Evaluation of the model\n",
        "scores= model.evaluate(X_test, y_test, verbose=0)\n",
        "print(\"Accuracy: %.2f%%\" % (scores[1]*100))\n",
        "\n"
      ],
      "metadata": {
        "colab": {
          "base_uri": "https://localhost:8080/"
        },
        "id": "Cf0yztGNgOjP",
        "outputId": "e7806881-b963-4dcc-c9f4-d29526b9d391"
      },
      "execution_count": null,
      "outputs": [
        {
          "output_type": "stream",
          "name": "stdout",
          "text": [
            "Model: \"sequential_1\"\n",
            "_________________________________________________________________\n",
            " Layer (type)                Output Shape              Param #   \n",
            "=================================================================\n",
            " conv2d_6 (Conv2D)           (None, 11, 11, 32)        896       \n",
            "                                                                 \n",
            " dropout_6 (Dropout)         (None, 11, 11, 32)        0         \n",
            "                                                                 \n",
            " conv2d_7 (Conv2D)           (None, 11, 11, 32)        9248      \n",
            "                                                                 \n",
            " max_pooling2d_3 (MaxPooling  (None, 5, 5, 32)         0         \n",
            " 2D)                                                             \n",
            "                                                                 \n",
            " conv2d_8 (Conv2D)           (None, 5, 5, 64)          18496     \n",
            "                                                                 \n",
            " dropout_7 (Dropout)         (None, 5, 5, 64)          0         \n",
            "                                                                 \n",
            " conv2d_9 (Conv2D)           (None, 5, 5, 64)          36928     \n",
            "                                                                 \n",
            " max_pooling2d_4 (MaxPooling  (None, 2, 2, 64)         0         \n",
            " 2D)                                                             \n",
            "                                                                 \n",
            " conv2d_10 (Conv2D)          (None, 2, 2, 128)         73856     \n",
            "                                                                 \n",
            " dropout_8 (Dropout)         (None, 2, 2, 128)         0         \n",
            "                                                                 \n",
            " conv2d_11 (Conv2D)          (None, 2, 2, 128)         147584    \n",
            "                                                                 \n",
            " max_pooling2d_5 (MaxPooling  (None, 1, 1, 128)        0         \n",
            " 2D)                                                             \n",
            "                                                                 \n",
            " flatten_1 (Flatten)         (None, 128)               0         \n",
            "                                                                 \n",
            " dropout_9 (Dropout)         (None, 128)               0         \n",
            "                                                                 \n",
            " dense_4 (Dense)             (None, 1024)              132096    \n",
            "                                                                 \n",
            " dense_5 (Dense)             (None, 1024)              1049600   \n",
            "                                                                 \n",
            " dropout_10 (Dropout)        (None, 1024)              0         \n",
            "                                                                 \n",
            " dense_6 (Dense)             (None, 512)               524800    \n",
            "                                                                 \n",
            " dropout_11 (Dropout)        (None, 512)               0         \n",
            "                                                                 \n",
            " dense_7 (Dense)             (None, 10)                5130      \n",
            "                                                                 \n",
            "=================================================================\n",
            "Total params: 1,998,634\n",
            "Trainable params: 1,998,634\n",
            "Non-trainable params: 0\n",
            "_________________________________________________________________\n",
            "None\n",
            "Epoch 1/25\n",
            "1563/1563 - 113s - loss: 1.9948 - accuracy: 0.0000e+00 - val_loss: 195.9798 - val_accuracy: 0.7007 - 113s/epoch - 73ms/step\n",
            "Epoch 2/25\n",
            "1563/1563 - 110s - loss: 1.6474 - accuracy: 0.0000e+00 - val_loss: 149.7456 - val_accuracy: 0.7461 - 110s/epoch - 70ms/step\n",
            "Epoch 3/25\n",
            "1563/1563 - 111s - loss: 1.4926 - accuracy: 0.0000e+00 - val_loss: 99.5962 - val_accuracy: 0.7088 - 111s/epoch - 71ms/step\n",
            "Epoch 4/25\n",
            "1563/1563 - 109s - loss: 1.3929 - accuracy: 0.0000e+00 - val_loss: 115.6171 - val_accuracy: 0.7232 - 109s/epoch - 70ms/step\n",
            "Epoch 5/25\n",
            "1563/1563 - 110s - loss: 1.3177 - accuracy: 0.0000e+00 - val_loss: 87.2428 - val_accuracy: 0.6619 - 110s/epoch - 70ms/step\n",
            "Epoch 6/25\n",
            "1563/1563 - 109s - loss: 1.2689 - accuracy: 0.0000e+00 - val_loss: 114.9415 - val_accuracy: 0.7078 - 109s/epoch - 70ms/step\n",
            "Epoch 7/25\n",
            "1563/1563 - 111s - loss: 1.2123 - accuracy: 2.0000e-06 - val_loss: 117.6062 - val_accuracy: 0.7337 - 111s/epoch - 71ms/step\n",
            "Epoch 8/25\n",
            "1563/1563 - 111s - loss: 1.1736 - accuracy: 2.0000e-06 - val_loss: 177.3282 - val_accuracy: 0.7532 - 111s/epoch - 71ms/step\n",
            "Epoch 9/25\n",
            "1563/1563 - 111s - loss: 1.1489 - accuracy: 8.0000e-06 - val_loss: 116.7935 - val_accuracy: 0.7229 - 111s/epoch - 71ms/step\n",
            "Epoch 10/25\n",
            "1563/1563 - 110s - loss: 1.1127 - accuracy: 6.0000e-06 - val_loss: 96.1777 - val_accuracy: 0.6921 - 110s/epoch - 70ms/step\n",
            "Epoch 11/25\n",
            "1563/1563 - 111s - loss: 1.0992 - accuracy: 8.0000e-06 - val_loss: 107.7920 - val_accuracy: 0.7261 - 111s/epoch - 71ms/step\n",
            "Epoch 12/25\n",
            "1563/1563 - 109s - loss: 1.0800 - accuracy: 1.0000e-05 - val_loss: 115.6776 - val_accuracy: 0.7461 - 109s/epoch - 70ms/step\n",
            "Epoch 13/25\n",
            "1563/1563 - 110s - loss: 1.0595 - accuracy: 1.0000e-05 - val_loss: 93.2917 - val_accuracy: 0.7042 - 110s/epoch - 71ms/step\n",
            "Epoch 14/25\n",
            "1563/1563 - 109s - loss: 1.0535 - accuracy: 3.4000e-05 - val_loss: 136.2048 - val_accuracy: 0.7544 - 109s/epoch - 70ms/step\n",
            "Epoch 15/25\n",
            "1563/1563 - 111s - loss: 1.0400 - accuracy: 3.0000e-05 - val_loss: 88.0166 - val_accuracy: 0.7251 - 111s/epoch - 71ms/step\n",
            "Epoch 16/25\n",
            "1563/1563 - 115s - loss: 1.0225 - accuracy: 3.8000e-05 - val_loss: 106.4931 - val_accuracy: 0.7093 - 115s/epoch - 74ms/step\n",
            "Epoch 17/25\n",
            "1563/1563 - 120s - loss: 1.0197 - accuracy: 3.6000e-05 - val_loss: 120.2656 - val_accuracy: 0.7612 - 120s/epoch - 77ms/step\n",
            "Epoch 18/25\n",
            "1563/1563 - 121s - loss: 1.0092 - accuracy: 7.8000e-05 - val_loss: 101.7524 - val_accuracy: 0.7186 - 121s/epoch - 78ms/step\n",
            "Epoch 19/25\n",
            "1563/1563 - 117s - loss: 1.0022 - accuracy: 8.8000e-05 - val_loss: 119.3345 - val_accuracy: 0.7317 - 117s/epoch - 75ms/step\n",
            "Epoch 20/25\n",
            "1563/1563 - 117s - loss: 0.9927 - accuracy: 1.2800e-04 - val_loss: 150.4034 - val_accuracy: 0.7284 - 117s/epoch - 75ms/step\n",
            "Epoch 21/25\n",
            "1563/1563 - 115s - loss: 0.9931 - accuracy: 1.0000e-04 - val_loss: 99.9108 - val_accuracy: 0.7448 - 115s/epoch - 73ms/step\n",
            "Epoch 22/25\n",
            "1563/1563 - 115s - loss: 0.9888 - accuracy: 1.5600e-04 - val_loss: 136.3378 - val_accuracy: 0.7244 - 115s/epoch - 73ms/step\n",
            "Epoch 23/25\n",
            "1563/1563 - 115s - loss: 0.9818 - accuracy: 1.7000e-04 - val_loss: 122.6138 - val_accuracy: 0.7333 - 115s/epoch - 73ms/step\n",
            "Epoch 24/25\n",
            "1563/1563 - 115s - loss: 0.9856 - accuracy: 1.5800e-04 - val_loss: 111.6970 - val_accuracy: 0.7530 - 115s/epoch - 73ms/step\n",
            "Epoch 25/25\n",
            "1563/1563 - 114s - loss: 0.9759 - accuracy: 1.9400e-04 - val_loss: 107.9802 - val_accuracy: 0.7007 - 114s/epoch - 73ms/step\n",
            "Accuracy: 70.07%\n"
          ]
        }
      ]
    }
  ],
  "metadata": {
    "colab": {
      "collapsed_sections": [],
      "name": "Untitled17.ipynb",
      "provenance": []
    },
    "kernelspec": {
      "display_name": "Python 3",
      "name": "python3"
    },
    "language_info": {
      "name": "python"
    }
  },
  "nbformat": 4,
  "nbformat_minor": 0
}